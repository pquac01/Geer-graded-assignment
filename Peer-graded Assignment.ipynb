{
 "cells": [
  {
   "cell_type": "markdown",
   "id": "22a623f6",
   "metadata": {},
   "source": [
    "# My Jupyter Notebook on IBM Watson Studio\""
   ]
  },
  {
   "cell_type": "markdown",
   "id": "c9c118fb",
   "metadata": {},
   "source": [
    "**Elshad Aliyev**\n",
    "\n",
    "Data Scientist"
   ]
  },
  {
   "cell_type": "markdown",
   "id": "54e308fa",
   "metadata": {},
   "source": [
    "_I am interesting in data science cause of its advantegous for the my future. I want to change my discipline and start to build new career in which I will be happy to work and has increasing demand._"
   ]
  },
  {
   "cell_type": "markdown",
   "id": "5d84d296",
   "metadata": {},
   "source": [
    "***This code will add two given numbers and prints the result."
   ]
  },
  {
   "cell_type": "code",
   "execution_count": 1,
   "id": "dcd03772",
   "metadata": {},
   "outputs": [
    {
     "name": "stdout",
     "output_type": "stream",
     "text": [
      "15\n"
     ]
    }
   ],
   "source": [
    "a = 5\n",
    "b = 10\n",
    "print(a+b)"
   ]
  },
  {
   "cell_type": "markdown",
   "id": "4921db4b",
   "metadata": {},
   "source": [
    "> this is my quote\n",
    "\n",
    "| This     | is      | my       |table    |\n",
    "|----------|---------|----------|---------|\n",
    "|Raw 1     | 1       | `2`      | 3       |\n",
    "|Raw 2     | 4       | 5        | ~6~     |\n",
    "\n",
    "[Link for Youtube](youtube.com)"
   ]
  },
  {
   "cell_type": "code",
   "execution_count": null,
   "id": "17015aeb",
   "metadata": {},
   "outputs": [],
   "source": []
  }
 ],
 "metadata": {
  "kernelspec": {
   "display_name": "Python 3 (ipykernel)",
   "language": "python",
   "name": "python3"
  },
  "language_info": {
   "codemirror_mode": {
    "name": "ipython",
    "version": 3
   },
   "file_extension": ".py",
   "mimetype": "text/x-python",
   "name": "python",
   "nbconvert_exporter": "python",
   "pygments_lexer": "ipython3",
   "version": "3.9.13"
  }
 },
 "nbformat": 4,
 "nbformat_minor": 5
}
