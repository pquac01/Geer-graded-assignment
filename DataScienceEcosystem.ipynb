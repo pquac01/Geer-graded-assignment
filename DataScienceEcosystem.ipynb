{
 "cells": [
  {
   "cell_type": "markdown",
   "id": "5076b9dc",
   "metadata": {},
   "source": [
    "# Data Science Tools and Ecosystem"
   ]
  },
  {
   "cell_type": "markdown",
   "id": "ecb28f63",
   "metadata": {},
   "source": [
    "In this notebook, Data Science Tools and Ecosystem are summarized."
   ]
  },
  {
   "cell_type": "markdown",
   "id": "9735ae29",
   "metadata": {},
   "source": [
    "**Objectives:**\n",
    "\n",
    "- List of popular programming languages for Data Science.\n",
    "- List of ppopular python libraries used by Data Scientists.\n",
    "- List of Uncommercial Data Science tools.\n",
    "- Sample arithmetic python code.\n",
    "- Converter (minutes to hours)."
   ]
  },
  {
   "cell_type": "markdown",
   "id": "6745a7d5",
   "metadata": {},
   "source": [
    "Some of the popular languages that Data Scientists use are:\n",
    "\n",
    "1. Python\n",
    "2. R\n",
    "3. Scala"
   ]
  },
  {
   "cell_type": "markdown",
   "id": "083b79e3",
   "metadata": {},
   "source": [
    "Some of the commonly used libraries used by Data Scientists include:\n",
    "\n",
    "1. Pandas\n",
    "2. Numpy\n",
    "3. Scify\n",
    "4. Matplotlib"
   ]
  },
  {
   "cell_type": "markdown",
   "id": "b777e5f5",
   "metadata": {},
   "source": [
    "|Data Science Tools|\n",
    "|:----------------:|\n",
    "|Jupyter           |\n",
    "|R-Studio          |\n",
    "|Spyder            |\n",
    "|TensorFlow Service|"
   ]
  },
  {
   "cell_type": "markdown",
   "id": "44dbeb0e",
   "metadata": {},
   "source": [
    "***Below are a few examples of evaluating arithmetic expressions in Python"
   ]
  },
  {
   "cell_type": "code",
   "execution_count": 2,
   "id": "3ce93a54",
   "metadata": {},
   "outputs": [
    {
     "data": {
      "text/plain": [
       "17"
      ]
     },
     "execution_count": 2,
     "metadata": {},
     "output_type": "execute_result"
    }
   ],
   "source": [
    "# This a simple arithmetic expression to mutiply then add integers.\n",
    "(3*4)+5"
   ]
  },
  {
   "cell_type": "code",
   "execution_count": 8,
   "id": "dc91d774",
   "metadata": {},
   "outputs": [
    {
     "name": "stdout",
     "output_type": "stream",
     "text": [
      "3 hours and 20 minutes.\n"
     ]
    }
   ],
   "source": [
    "#This will convert 200 minutes to hours by diving by 60\n",
    "initial_minutes = 200\n",
    "hours = initial_minutes//60\n",
    "left_minutes = initial_minutes - hours * 60\n",
    "print(str(hours) + \" hours and \" + str(left_minutes) + \" minutes.\")"
   ]
  },
  {
   "cell_type": "markdown",
   "id": "29acf81e",
   "metadata": {},
   "source": [
    "## Author:\n",
    "\n",
    "Elshad Aliyev"
   ]
  }
 ],
 "metadata": {
  "kernelspec": {
   "display_name": "Python 3 (ipykernel)",
   "language": "python",
   "name": "python3"
  },
  "language_info": {
   "codemirror_mode": {
    "name": "ipython",
    "version": 3
   },
   "file_extension": ".py",
   "mimetype": "text/x-python",
   "name": "python",
   "nbconvert_exporter": "python",
   "pygments_lexer": "ipython3",
   "version": "3.9.13"
  }
 },
 "nbformat": 4,
 "nbformat_minor": 5
}
